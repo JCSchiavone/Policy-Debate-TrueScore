{
 "metadata": {
  "name": ""
 },
 "nbformat": 3,
 "nbformat_minor": 0,
 "worksheets": [
  {
   "cells": [
    {
     "cell_type": "code",
     "collapsed": false,
     "input": [
      "#takes in our data, a function to create a model, and the number of holdouts\n",
      "#returns the root mean square error of the model \n",
      "import copy\n",
      "import scipy.stats as sp\n",
      "import numpy as np\n",
      "def validate (data,f,N) : \n",
      "    error = []\n",
      "    \n",
      "    #list of holdouts to test our model on \n",
      "    holdouts = random.sample(data,N) \n",
      "    for holdout in holdouts :\n",
      "        new_data = copy.copy(data)\n",
      "        \n",
      "        #creates our model using all of the data without the holdout as training data\n",
      "        new_data.remove(holdout)\n",
      "        deb_mean,deb_sd,judge_mean,judge_sd = f(new_data)\n",
      "        \n",
      "        #computes the error between our prediction(based on our model) for the speaker points\n",
      "        #awarded in the holdout round and the actual points awarded in the holdout round\n",
      "        for i in holdout['debaters'] : \n",
      "            rv = sp.norm(loc = deb_mean[i['ID']] + judge_mean[holdout['judge']['ID']], \n",
      "                         scale = deb_sd[i['ID']] + judge_sd[holdout['judge']['ID']])\n",
      "            error.append = rv.pdf(deb_mean[i['ID']] + judge_mean[holdout['judge']['ID']]) - rv.pdf(i['speaker points'])\n",
      "   \n",
      "    #returns the root mean square error of our predictions\n",
      "    return np.sqrt(np.mean([e**2 for e in error]))\n",
      "            \n",
      "        "
     ],
     "language": "python",
     "metadata": {},
     "outputs": [],
     "prompt_number": 15
    },
    {
     "cell_type": "code",
     "collapsed": false,
     "input": [],
     "language": "python",
     "metadata": {},
     "outputs": []
    }
   ],
   "metadata": {}
  }
 ]
}